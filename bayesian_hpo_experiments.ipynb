{
 "cells": [
  {
   "cell_type": "code",
   "execution_count": 1,
   "metadata": {},
   "outputs": [],
   "source": [
    "import numpy as np\n",
    "\n",
    "from sklearn.linear_model import LogisticRegression\n",
    "from sklearn.datasets import load_wine,load_breast_cancer,load_diabetes, make_classification\n",
    "from sklearn.preprocessing import StandardScaler\n",
    "from sklearn.model_selection import train_test_split, KFold, ParameterGrid\n",
    "from sklearn.metrics import accuracy_score\n",
    "\n",
    "from bayesian_hpo import find_best_hyperparams\n",
    "\n",
    "\n",
    "import warnings\n",
    "warnings.filterwarnings('ignore')\n",
    "\n",
    "# toy datasets: wine, breast_cancer, diabetes\n",
    "# real datasets: california_housing\n",
    "# synthetic datasets: make_classification\n",
    "\n",
    "# try random forest + regression task\n",
    "\n",
    "\n",
    "## TODO: scaled performance comparison"
   ]
  },
  {
   "cell_type": "code",
   "execution_count": 2,
   "metadata": {},
   "outputs": [],
   "source": [
    "#data = load_breast_cancer()\n",
    "#X, y = data['data'], data['target']\n",
    "\n",
    "X, y = make_classification(n_samples=1000,n_features=32,n_informative=20,n_classes=4)\n",
    "\n",
    "X_train, X_test, y_train, y_test = train_test_split(X, y, test_size=0.33, random_state=42)"
   ]
  },
  {
   "cell_type": "markdown",
   "metadata": {},
   "source": [
    "### Bayesian HPO"
   ]
  },
  {
   "cell_type": "code",
   "execution_count": 6,
   "metadata": {},
   "outputs": [
    {
     "name": "stdout",
     "output_type": "stream",
     "text": [
      "hyper_config: {'C': 78.47599703514607, 'fit_intercept': True, 'l1_ratio': 0.2}, mean: 0.5403, std: 0.0571\n"
     ]
    }
   ],
   "source": [
    "# inputs\n",
    "param_grid = {'C': np.logspace(-4, 4, 20), 'l1_ratio': np.arange(0,1.01,0.1), 'fit_intercept':[True,False]}\n",
    "categorical_feats = ['fit_intercept'] #boolean values as well\n",
    "\n",
    "model = LogisticRegression(solver = 'saga', penalty='elasticnet')\n",
    "metric_fnc = accuracy_score\n",
    "\n",
    "find_best_hyperparams(X_train,y_train,param_grid,categorical_feats,model,metric_fnc)"
   ]
  },
  {
   "cell_type": "markdown",
   "metadata": {},
   "source": [
    "### Grid Search"
   ]
  },
  {
   "cell_type": "code",
   "execution_count": 7,
   "metadata": {},
   "outputs": [
    {
     "name": "stdout",
     "output_type": "stream",
     "text": [
      "size of hyperparameter space: 440\n",
      "hyper_config: {'C': 0.615848211066026, 'fit_intercept': True, 'l1_ratio': 0.9}, mean: 0.5448, std: 0.0610\n"
     ]
    }
   ],
   "source": [
    "print(f'size of hyperparameter space: {len(list(ParameterGrid(param_grid)))}')\n",
    "\n",
    "scaler = StandardScaler()\n",
    "kf = KFold(n_splits=5)\n",
    "\n",
    "best_score = -1\n",
    "best_score_std = None\n",
    "best_config = None\n",
    "\n",
    "for hyp_cfg in list(ParameterGrid(param_grid)):\n",
    "\n",
    "    scores = []\n",
    "    for train_index, test_index in kf.split(X_train):   \n",
    "        X_train_cv, X_valid_cv = X_train[train_index], X_train[test_index]\n",
    "        y_train_cv, y_valid_cv = y_train[train_index], y_train[test_index]\n",
    "\n",
    "        X_train_cv = scaler.fit_transform(X_train_cv)\n",
    "        X_valid_cv = scaler.transform(X_valid_cv)\n",
    "\n",
    "        model = LogisticRegression(solver = 'saga', penalty='elasticnet',**hyp_cfg)\n",
    "\n",
    "        model.fit(X_train_cv,y_train_cv)\n",
    "\n",
    "        y_pred_cv = model.predict(X_valid_cv)\n",
    "        scores.append(accuracy_score(y_valid_cv,y_pred_cv))\n",
    "\n",
    "    if best_score < np.mean(scores):\n",
    "        best_score = np.mean(scores)\n",
    "        best_score_std = np.std(scores)\n",
    "        best_config = hyp_cfg\n",
    "\n",
    "\n",
    "print(f'hyper_config: {best_config}, mean: {best_score:.4f}, std: {best_score_std:.4f}')"
   ]
  }
 ],
 "metadata": {
  "interpreter": {
   "hash": "0adcc2737ebf6a4a119f135174df96668767fca1ef1112612db5ecadf2b6d608"
  },
  "kernelspec": {
   "display_name": "Python 3.8.5 64-bit",
   "language": "python",
   "name": "python3"
  },
  "language_info": {
   "codemirror_mode": {
    "name": "ipython",
    "version": 3
   },
   "file_extension": ".py",
   "mimetype": "text/x-python",
   "name": "python",
   "nbconvert_exporter": "python",
   "pygments_lexer": "ipython3",
   "version": "3.8.5"
  },
  "orig_nbformat": 4
 },
 "nbformat": 4,
 "nbformat_minor": 2
}
