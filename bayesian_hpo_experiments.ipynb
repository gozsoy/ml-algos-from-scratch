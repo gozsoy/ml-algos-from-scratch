{
 "cells": [
  {
   "cell_type": "code",
   "execution_count": 1,
   "metadata": {},
   "outputs": [],
   "source": [
    "import numpy as np\n",
    "from sklearn.linear_model import LogisticRegression\n",
    "from sklearn.datasets import load_wine\n",
    "from sklearn.preprocessing import StandardScaler\n",
    "from sklearn.model_selection import train_test_split, KFold, ParameterGrid\n",
    "from sklearn.metrics import accuracy_score\n",
    "\n",
    "from sklearn.gaussian_process import GaussianProcessRegressor\n",
    "from sklearn.gaussian_process.kernels import RBF\n",
    "\n",
    "from bayesian_opt import ThompsonSampling,GP_UCB\n",
    "# try to not change any code from above file!!\n",
    "\n",
    "import warnings\n",
    "warnings.filterwarnings('ignore')\n",
    "\n",
    "# toy datasets: wine, breast_cancer, diabetes\n",
    "# real datasets: california_housing\n",
    "# synthetic datasets: make_classification (select hardness level yourself)\n",
    "\n",
    "# try logistic regression and random forest\n",
    "# compare with grid search (performance, time, total trials)"
   ]
  },
  {
   "cell_type": "code",
   "execution_count": 2,
   "metadata": {},
   "outputs": [],
   "source": [
    "data = load_wine()\n",
    "\n",
    "X = data['data']\n",
    "y = data['target']\n",
    "\n",
    "X_train, X_test, y_train, y_test = train_test_split(X, y, test_size=0.33, random_state=42)\n",
    "\n",
    "scaler = StandardScaler()\n",
    "\n",
    "kf = KFold(n_splits=5)"
   ]
  },
  {
   "cell_type": "markdown",
   "metadata": {},
   "source": [
    "### Bayesian HPO"
   ]
  },
  {
   "cell_type": "code",
   "execution_count": 3,
   "metadata": {},
   "outputs": [],
   "source": [
    "param_grid = {'C': np.logspace(-4, 4, 20), 'l1_ratio': np.arange(0,1.01,0.1)}\n",
    "hyper_matrix = np.array(list(map(lambda x: list(x.values()),list(ParameterGrid(param_grid)))))\n",
    "\n",
    "hyper_scaler = StandardScaler()\n",
    "\n",
    "hyper_matrix = hyper_scaler.fit_transform(hyper_matrix)\n"
   ]
  },
  {
   "cell_type": "code",
   "execution_count": 4,
   "metadata": {},
   "outputs": [
    {
     "name": "stdout",
     "output_type": "stream",
     "text": [
      "hyper_config: [1.e-04 0.e+00], mean: 0.40, std: 0.09\n",
      "hyper_config: [78.47599704  0.2       ], mean: 0.98, std: 0.02\n",
      "hyper_config: [1.43844989e+03 2.00000000e-01], mean: 0.98, std: 0.02\n",
      "hyper_config: [5.45559478e+02 4.00000000e-01], mean: 0.97, std: 0.02\n",
      "hyper_config: [1.43844989e+03 4.00000000e-01], mean: 0.98, std: 0.02\n"
     ]
    }
   ],
   "source": [
    "def compute_cv_score(temp_hyp_cfg):\n",
    "\n",
    "    temp_hyp_cfg = hyper_scaler.inverse_transform(temp_hyp_cfg)\n",
    "\n",
    "    scores = []\n",
    "    for train_index, test_index in kf.split(X_train):   \n",
    "        X_train_cv, X_valid_cv = X_train[train_index], X_train[test_index]\n",
    "        y_train_cv, y_valid_cv = y_train[train_index], y_train[test_index]\n",
    "\n",
    "        X_train_cv = scaler.fit_transform(X_train_cv)\n",
    "        X_valid_cv = scaler.transform(X_valid_cv)\n",
    "\n",
    "        model = LogisticRegression(solver = 'saga', penalty='elasticnet',C = temp_hyp_cfg[0], l1_ratio = temp_hyp_cfg[1])\n",
    "\n",
    "        model.fit(X_train_cv,y_train_cv)\n",
    "\n",
    "        y_pred_cv = model.predict(X_valid_cv)\n",
    "        scores.append(accuracy_score(y_valid_cv,y_pred_cv))\n",
    "\n",
    "    print(f'hyper_config: {temp_hyp_cfg}, mean: {np.mean(scores):.2f}, std: {np.std(scores):.2f}')\n",
    "    return np.mean(scores)\n",
    "\n",
    "\n",
    "kernel = 0.8 * RBF(0.5,length_scale_bounds=\"fixed\")\n",
    "gpr = GaussianProcessRegressor(kernel=kernel)\n",
    "\n",
    "ucb = GP_UCB(gpr,hyper_matrix,compute_cv_score,beta = 2.0)\n",
    "\n",
    "tol = 5\n",
    "\n",
    "for i in range(tol):\n",
    "    \n",
    "    ucb.query_new_point()\n",
    "\n",
    "    ucb.update_gp()\n",
    "\n"
   ]
  },
  {
   "cell_type": "markdown",
   "metadata": {},
   "source": [
    "### Grid Search"
   ]
  },
  {
   "cell_type": "code",
   "execution_count": null,
   "metadata": {},
   "outputs": [],
   "source": [
    "# for each hyper config\n",
    "param_grid = {'C': np.logspace(-4, 4, 20), 'l1_ratio': np.arange(0,1.01,0.1)}\n",
    "\n",
    "for hyp_cfg in list(ParameterGrid(param_grid)):\n",
    "\n",
    "    scores = []\n",
    "    for train_index, test_index in kf.split(X_train):   \n",
    "        X_train_cv, X_valid_cv = X_train[train_index], X_train[test_index]\n",
    "        y_train_cv, y_valid_cv = y_train[train_index], y_train[test_index]\n",
    "\n",
    "        X_train_cv = scaler.fit_transform(X_train_cv)\n",
    "        X_valid_cv = scaler.transform(X_valid_cv)\n",
    "\n",
    "        model = LogisticRegression(solver = 'saga', penalty='elasticnet',C = hyp_cfg['C'], l1_ratio= hyp_cfg['l1_ratio'])\n",
    "\n",
    "        model.fit(X_train_cv,y_train_cv)\n",
    "\n",
    "        y_pred_cv = model.predict(X_valid_cv)\n",
    "        scores.append(accuracy_score(y_valid_cv,y_pred_cv))\n",
    "\n",
    "    print(f'hyper_config: {hyp_cfg}, mean: {np.mean(scores):.2f}, std: {np.std(scores):.2f}')"
   ]
  }
 ],
 "metadata": {
  "interpreter": {
   "hash": "0adcc2737ebf6a4a119f135174df96668767fca1ef1112612db5ecadf2b6d608"
  },
  "kernelspec": {
   "display_name": "Python 3.8.5 64-bit",
   "language": "python",
   "name": "python3"
  },
  "language_info": {
   "codemirror_mode": {
    "name": "ipython",
    "version": 3
   },
   "file_extension": ".py",
   "mimetype": "text/x-python",
   "name": "python",
   "nbconvert_exporter": "python",
   "pygments_lexer": "ipython3",
   "version": "3.8.5"
  },
  "orig_nbformat": 4
 },
 "nbformat": 4,
 "nbformat_minor": 2
}
