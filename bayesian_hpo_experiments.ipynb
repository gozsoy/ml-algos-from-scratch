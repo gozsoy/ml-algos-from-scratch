{
 "cells": [
  {
   "cell_type": "code",
   "execution_count": 1,
   "metadata": {},
   "outputs": [],
   "source": [
    "import numpy as np\n",
    "\n",
    "from sklearn.linear_model import LogisticRegression, ElasticNet\n",
    "from sklearn.datasets import load_wine,load_breast_cancer,load_diabetes, make_classification\n",
    "from sklearn.preprocessing import StandardScaler\n",
    "from sklearn.model_selection import train_test_split, KFold, ParameterGrid\n",
    "from sklearn.metrics import accuracy_score, mean_squared_error\n",
    "\n",
    "from hyperparameter_search import find_best_hyperparams_bayesian,find_best_hyperparams_grid\n",
    "\n",
    "import warnings\n",
    "warnings.filterwarnings('ignore')\n",
    "import time"
   ]
  },
  {
   "cell_type": "markdown",
   "metadata": {},
   "source": [
    "#### wine classification"
   ]
  },
  {
   "cell_type": "code",
   "execution_count": 2,
   "metadata": {},
   "outputs": [
    {
     "name": "stdout",
     "output_type": "stream",
     "text": [
      "hyper_config: {'C': 78.47599703514607, 'fit_intercept': True, 'l1_ratio': 0.2}, mean: 0.9833, std: 0.0204\n",
      "bayesian search runtime: 0 sec\n",
      "\n",
      "size of hyperparameter space: 440\n",
      "hyper_config: {'C': 0.012742749857031334, 'fit_intercept': True, 'l1_ratio': 0.0}, mean: 0.9833, std: 0.0204\n",
      "grid search runtime: 7 sec\n"
     ]
    }
   ],
   "source": [
    "# load dataset\n",
    "data = load_wine()\n",
    "X, y = data['data'], data['target']\n",
    "X_train, X_test, y_train, y_test = train_test_split(X, y, test_size=0.33, random_state=42)\n",
    "\n",
    "# specify parameter grid, model, and performance metric\n",
    "param_grid = {'C': np.logspace(-4, 4, 20), 'l1_ratio': np.arange(0,1.01,0.1), 'fit_intercept':[True,False]}\n",
    "categorical_feats = ['fit_intercept'] #boolean values as well\n",
    "model = LogisticRegression(solver = 'saga', penalty='elasticnet')\n",
    "metric_fnc = accuracy_score\n",
    "\n",
    "# bayesian search\n",
    "start = time.time()\n",
    "find_best_hyperparams_bayesian(X_train,y_train,param_grid,categorical_feats,model,metric_fnc,tol=10)\n",
    "end = time.time()\n",
    "print(f'bayesian search runtime: {end - start :.0f} sec\\n')\n",
    "\n",
    "# grid search\n",
    "start = time.time()\n",
    "find_best_hyperparams_grid(X_train,y_train,param_grid,model,metric_fnc)\n",
    "end = time.time()\n",
    "print(f'grid search runtime: {end - start:.0f} sec')"
   ]
  },
  {
   "cell_type": "markdown",
   "metadata": {},
   "source": [
    "#### breast cancer classification"
   ]
  },
  {
   "cell_type": "code",
   "execution_count": 3,
   "metadata": {},
   "outputs": [
    {
     "name": "stdout",
     "output_type": "stream",
     "text": [
      "hyper_config: {'C': 78.47599703514607, 'fit_intercept': True, 'l1_ratio': 0.2}, mean: 0.9711, std: 0.0175\n",
      "bayesian search runtime: 1 sec\n",
      "\n",
      "size of hyperparameter space: 440\n",
      "hyper_config: {'C': 0.23357214690901212, 'fit_intercept': True, 'l1_ratio': 0.1}, mean: 0.9790, std: 0.0065\n",
      "grid search runtime: 18 sec\n"
     ]
    }
   ],
   "source": [
    "# load dataset\n",
    "data = load_breast_cancer()\n",
    "X, y = data['data'], data['target']\n",
    "X_train, X_test, y_train, y_test = train_test_split(X, y, test_size=0.33, random_state=42)\n",
    "\n",
    "# specify parameter grid, model, and performance metric\n",
    "param_grid = {'C': np.logspace(-4, 4, 20), 'l1_ratio': np.arange(0,1.01,0.1), 'fit_intercept':[True,False]}\n",
    "categorical_feats = ['fit_intercept'] #boolean values as well\n",
    "model = LogisticRegression(solver = 'saga', penalty='elasticnet')\n",
    "metric_fnc = accuracy_score\n",
    "\n",
    "# bayesian search\n",
    "start = time.time()\n",
    "find_best_hyperparams_bayesian(X_train,y_train,param_grid,categorical_feats,model,metric_fnc,tol=10)\n",
    "end = time.time()\n",
    "print(f'bayesian search runtime: {end - start :.0f} sec\\n')\n",
    "\n",
    "# grid search\n",
    "start = time.time()\n",
    "find_best_hyperparams_grid(X_train,y_train,param_grid,model,metric_fnc)\n",
    "end = time.time()\n",
    "print(f'grid search runtime: {end - start:.0f} sec')"
   ]
  },
  {
   "cell_type": "markdown",
   "metadata": {},
   "source": [
    "#### synthetic classification"
   ]
  },
  {
   "cell_type": "code",
   "execution_count": 4,
   "metadata": {},
   "outputs": [
    {
     "name": "stdout",
     "output_type": "stream",
     "text": [
      "hyper_config: {'C': 78.47599703514607, 'fit_intercept': True, 'l1_ratio': 0.2}, mean: 0.5284, std: 0.0577\n",
      "bayesian search runtime: 1 sec\n",
      "\n",
      "size of hyperparameter space: 440\n",
      "hyper_config: {'C': 0.23357214690901212, 'fit_intercept': False, 'l1_ratio': 0.9}, mean: 0.5478, std: 0.0579\n",
      "grid search runtime: 42 sec\n"
     ]
    }
   ],
   "source": [
    "X, y = make_classification(n_samples=1000,n_features=32,n_informative=20,n_classes=4)\n",
    "\n",
    "X_train, X_test, y_train, y_test = train_test_split(X, y, test_size=0.33, random_state=42)\n",
    "\n",
    "# specify parameter grid, model, and performance metric\n",
    "param_grid = {'C': np.logspace(-4, 4, 20), 'l1_ratio': np.arange(0,1.01,0.1), 'fit_intercept':[True,False]}\n",
    "categorical_feats = ['fit_intercept'] #boolean values as well\n",
    "model = LogisticRegression(solver = 'saga', penalty='elasticnet')\n",
    "metric_fnc = accuracy_score\n",
    "\n",
    "# bayesian search\n",
    "start = time.time()\n",
    "find_best_hyperparams_bayesian(X_train,y_train,param_grid,categorical_feats,model,metric_fnc,tol=10)\n",
    "end = time.time()\n",
    "print(f'bayesian search runtime: {end - start :.0f} sec\\n')\n",
    "\n",
    "# grid search\n",
    "start = time.time()\n",
    "find_best_hyperparams_grid(X_train,y_train,param_grid,model,metric_fnc)\n",
    "end = time.time()\n",
    "print(f'grid search runtime: {end - start:.0f} sec')\n"
   ]
  },
  {
   "cell_type": "markdown",
   "metadata": {},
   "source": [
    "#### diabetes regression"
   ]
  },
  {
   "cell_type": "code",
   "execution_count": 5,
   "metadata": {},
   "outputs": [
    {
     "name": "stdout",
     "output_type": "stream",
     "text": [
      "hyper_config: {'alpha': 0.00999999999999801, 'fit_intercept': True, 'l1_ratio': 1.0}, mean: 0.0003, std: 0.0000\n",
      "bayesian search runtime: 0 sec\n",
      "\n",
      "size of hyperparameter space: 440\n",
      "hyper_config: {'alpha': 1.2742749857031335, 'fit_intercept': True, 'l1_ratio': 1.0}, mean: 0.0003, std: 0.0000\n",
      "grid search runtime: 3 sec\n"
     ]
    }
   ],
   "source": [
    "data = load_diabetes()\n",
    "X, y = data['data'], data['target']\n",
    "X_train, X_test, y_train, y_test = train_test_split(X, y, test_size=0.33, random_state=42)\n",
    "\n",
    "param_grid = {'alpha': np.logspace(-2, 2, 20), 'l1_ratio': np.arange(0,1.01,0.1), 'fit_intercept':[True,False]}\n",
    "categorical_feats = ['fit_intercept'] #boolean values as well\n",
    "model = ElasticNet()\n",
    "metric_fnc = lambda y_true,y_pred: 1/mean_squared_error(y_true,y_pred) # since lower is better, get the inverse of l2-loss\n",
    "# warning! : reported means should be converted to 1/mean to get true mean squared error for best hyperparameter\n",
    "\n",
    "# bayesian search\n",
    "start = time.time()\n",
    "find_best_hyperparams_bayesian(X_train,y_train,param_grid,categorical_feats,model,metric_fnc,tol=10)\n",
    "end = time.time()\n",
    "print(f'bayesian search runtime: {end - start :.0f} sec\\n')\n",
    "\n",
    "# grid search\n",
    "start = time.time()\n",
    "find_best_hyperparams_grid(X_train,y_train,param_grid,model,metric_fnc)\n",
    "end = time.time()\n",
    "print(f'grid search runtime: {end - start:.0f} sec')\n"
   ]
  }
 ],
 "metadata": {
  "interpreter": {
   "hash": "0adcc2737ebf6a4a119f135174df96668767fca1ef1112612db5ecadf2b6d608"
  },
  "kernelspec": {
   "display_name": "Python 3.8.5 64-bit",
   "language": "python",
   "name": "python3"
  },
  "language_info": {
   "codemirror_mode": {
    "name": "ipython",
    "version": 3
   },
   "file_extension": ".py",
   "mimetype": "text/x-python",
   "name": "python",
   "nbconvert_exporter": "python",
   "pygments_lexer": "ipython3",
   "version": "3.8.5"
  },
  "orig_nbformat": 4
 },
 "nbformat": 4,
 "nbformat_minor": 2
}
